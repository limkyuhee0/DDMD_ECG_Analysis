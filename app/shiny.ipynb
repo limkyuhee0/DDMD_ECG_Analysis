{
 "cells": [
  {
   "cell_type": "code",
   "execution_count": 1,
   "metadata": {},
   "outputs": [
    {
     "name": "stdout",
     "output_type": "stream",
     "text": [
      "Collecting shiny\n",
      "  Downloading shiny-1.1.0-py3-none-any.whl (4.3 MB)\n",
      "\u001b[2K     \u001b[90m━━━━━━━━━━━━━━━━━━━━━━━━━━━━━━━━━━━━━━━━\u001b[0m \u001b[32m4.3/4.3 MB\u001b[0m \u001b[31m8.5 MB/s\u001b[0m eta \u001b[36m0:00:00\u001b[0m00:01\u001b[0m00:01\u001b[0m\n",
      "\u001b[?25hCollecting htmltools>=0.5.2\n",
      "  Downloading htmltools-0.5.3-py3-none-any.whl (83 kB)\n",
      "\u001b[2K     \u001b[90m━━━━━━━━━━━━━━━━━━━━━━━━━━━━━━━━━━━━━━━━\u001b[0m \u001b[32m83.2/83.2 KB\u001b[0m \u001b[31m10.4 MB/s\u001b[0m eta \u001b[36m0:00:00\u001b[0m\n",
      "\u001b[?25hCollecting starlette\n",
      "  Downloading starlette-0.38.5-py3-none-any.whl (71 kB)\n",
      "\u001b[2K     \u001b[90m━━━━━━━━━━━━━━━━━━━━━━━━━━━━━━━━━━━━━━━━\u001b[0m \u001b[32m71.4/71.4 KB\u001b[0m \u001b[31m16.2 MB/s\u001b[0m eta \u001b[36m0:00:00\u001b[0m\n",
      "\u001b[?25hCollecting python-multipart\n",
      "  Downloading python_multipart-0.0.9-py3-none-any.whl (22 kB)\n",
      "Collecting websockets>=10.0\n",
      "  Downloading websockets-13.0.1-cp38-cp38-manylinux_2_5_x86_64.manylinux1_x86_64.manylinux_2_17_x86_64.manylinux2014_x86_64.whl (157 kB)\n",
      "\u001b[2K     \u001b[90m━━━━━━━━━━━━━━━━━━━━━━━━━━━━━━━━━━━━━━━\u001b[0m \u001b[32m157.5/157.5 KB\u001b[0m \u001b[31m8.7 MB/s\u001b[0m eta \u001b[36m0:00:00\u001b[0m\n",
      "\u001b[?25hCollecting uvicorn>=0.16.0\n",
      "  Downloading uvicorn-0.30.6-py3-none-any.whl (62 kB)\n",
      "\u001b[2K     \u001b[90m━━━━━━━━━━━━━━━━━━━━━━━━━━━━━━━━━━━━━━━━\u001b[0m \u001b[32m62.8/62.8 KB\u001b[0m \u001b[31m10.0 MB/s\u001b[0m eta \u001b[36m0:00:00\u001b[0m\n",
      "\u001b[?25hCollecting linkify-it-py>=1.0\n",
      "  Downloading linkify_it_py-2.0.3-py3-none-any.whl (19 kB)\n",
      "Collecting asgiref>=3.5.2\n",
      "  Downloading asgiref-3.8.1-py3-none-any.whl (23 kB)\n",
      "Requirement already satisfied: packaging>=20.9 in /usr/local/lib/python3.8/dist-packages (from shiny) (21.3)\n",
      "Collecting questionary>=2.0.0\n",
      "  Downloading questionary-2.0.1-py3-none-any.whl (34 kB)\n",
      "Collecting click>=8.1.4\n",
      "  Downloading click-8.1.7-py3-none-any.whl (97 kB)\n",
      "\u001b[2K     \u001b[90m━━━━━━━━━━━━━━━━━━━━━━━━━━━━━━━━━━━━━━━━\u001b[0m \u001b[32m97.9/97.9 KB\u001b[0m \u001b[31m4.8 MB/s\u001b[0m eta \u001b[36m0:00:00\u001b[0m\n",
      "\u001b[?25hRequirement already satisfied: prompt-toolkit in /usr/local/lib/python3.8/dist-packages (from shiny) (3.0.28)\n",
      "Collecting typing-extensions>=4.10.0\n",
      "  Downloading typing_extensions-4.12.2-py3-none-any.whl (37 kB)\n",
      "Collecting mdit-py-plugins>=0.3.0\n",
      "  Downloading mdit_py_plugins-0.4.2-py3-none-any.whl (55 kB)\n",
      "\u001b[2K     \u001b[90m━━━━━━━━━━━━━━━━━━━━━━━━━━━━━━━━━━━━━━━━\u001b[0m \u001b[32m55.3/55.3 KB\u001b[0m \u001b[31m16.4 MB/s\u001b[0m eta \u001b[36m0:00:00\u001b[0m\n",
      "\u001b[?25hCollecting markdown-it-py>=1.1.0\n",
      "  Downloading markdown_it_py-3.0.0-py3-none-any.whl (87 kB)\n",
      "\u001b[2K     \u001b[90m━━━━━━━━━━━━━━━━━━━━━━━━━━━━━━━━━━━━━━━━\u001b[0m \u001b[32m87.5/87.5 KB\u001b[0m \u001b[31m26.2 MB/s\u001b[0m eta \u001b[36m0:00:00\u001b[0m\n",
      "\u001b[?25hCollecting watchfiles>=0.18.0\n",
      "  Downloading watchfiles-0.24.0-cp38-cp38-manylinux_2_17_x86_64.manylinux2014_x86_64.whl (426 kB)\n",
      "\u001b[2K     \u001b[90m━━━━━━━━━━━━━━━━━━━━━━━━━━━━━━━━━━━━━━\u001b[0m \u001b[32m426.7/426.7 KB\u001b[0m \u001b[31m11.1 MB/s\u001b[0m eta \u001b[36m0:00:00\u001b[0m00:01\u001b[0m\n",
      "\u001b[?25hCollecting appdirs>=1.4.4\n",
      "  Downloading appdirs-1.4.4-py2.py3-none-any.whl (9.6 kB)\n",
      "Collecting uc-micro-py\n",
      "  Downloading uc_micro_py-1.0.3-py3-none-any.whl (6.2 kB)\n",
      "Collecting mdurl~=0.1\n",
      "  Downloading mdurl-0.1.2-py3-none-any.whl (10.0 kB)\n",
      "Requirement already satisfied: pyparsing!=3.0.5,>=2.0.2 in /usr/local/lib/python3.8/dist-packages (from packaging>=20.9->shiny) (3.0.7)\n",
      "Requirement already satisfied: wcwidth in /usr/local/lib/python3.8/dist-packages (from prompt-toolkit->shiny) (0.2.5)\n",
      "Collecting h11>=0.8\n",
      "  Downloading h11-0.14.0-py3-none-any.whl (58 kB)\n",
      "\u001b[2K     \u001b[90m━━━━━━━━━━━━━━━━━━━━━━━━━━━━━━━━━━━━━━━━\u001b[0m \u001b[32m58.3/58.3 KB\u001b[0m \u001b[31m1.8 MB/s\u001b[0m eta \u001b[36m0:00:00\u001b[0m\n",
      "\u001b[?25hRequirement already satisfied: anyio>=3.0.0 in /usr/local/lib/python3.8/dist-packages (from watchfiles>=0.18.0->shiny) (3.5.0)\n",
      "Requirement already satisfied: sniffio>=1.1 in /usr/local/lib/python3.8/dist-packages (from anyio>=3.0.0->watchfiles>=0.18.0->shiny) (1.2.0)\n",
      "Requirement already satisfied: idna>=2.8 in /usr/local/lib/python3.8/dist-packages (from anyio>=3.0.0->watchfiles>=0.18.0->shiny) (3.3)\n",
      "Installing collected packages: appdirs, websockets, uc-micro-py, typing-extensions, python-multipart, mdurl, h11, click, watchfiles, uvicorn, starlette, questionary, markdown-it-py, linkify-it-py, htmltools, asgiref, mdit-py-plugins, shiny\n",
      "  Attempting uninstall: typing-extensions\n",
      "    Found existing installation: typing_extensions 4.1.1\n",
      "    Uninstalling typing_extensions-4.1.1:\n",
      "      Successfully uninstalled typing_extensions-4.1.1\n",
      "Successfully installed appdirs-1.4.4 asgiref-3.8.1 click-8.1.7 h11-0.14.0 htmltools-0.5.3 linkify-it-py-2.0.3 markdown-it-py-3.0.0 mdit-py-plugins-0.4.2 mdurl-0.1.2 python-multipart-0.0.9 questionary-2.0.1 shiny-1.1.0 starlette-0.38.5 typing-extensions-4.12.2 uc-micro-py-1.0.3 uvicorn-0.30.6 watchfiles-0.24.0 websockets-13.0.1\n",
      "\u001b[33mWARNING: You are using pip version 22.0.4; however, version 24.2 is available.\n",
      "You should consider upgrading via the '/usr/local/bin/python -m pip install --upgrade pip' command.\u001b[0m\u001b[33m\n",
      "\u001b[0mNote: you may need to restart the kernel to use updated packages.\n"
     ]
    }
   ],
   "source": [
    "pip install shiny"
   ]
  },
  {
   "cell_type": "code",
   "execution_count": 2,
   "metadata": {},
   "outputs": [],
   "source": [
    "import os, torch\n",
    "os.environ[\"CUDA_DEVICE_ORDER\"]=\"PCI_BUS_ID\"  # Arrange GPU devices starting from 0\n",
    "os.environ[\"CUDA_VISIBLE_DEVICES\"]= \"0\"  # Set the GPU 2 to use\n",
    "torch.set_num_threads(16)\n",
    "# torch.cuda.set_per_process_memory_fraction(0.8, device=None)"
   ]
  },
  {
   "cell_type": "code",
   "execution_count": 3,
   "metadata": {},
   "outputs": [],
   "source": [
    "# import preprocessing\n",
    "import model"
   ]
  },
  {
   "cell_type": "code",
   "execution_count": 4,
   "metadata": {},
   "outputs": [],
   "source": [
    "import pandas as pd\n",
    "import json\n",
    "import numpy as np\n",
    "\n",
    "# CSV 파일 읽기\n",
    "df_loaded = pd.read_csv('../ecg_data.csv')\n",
    "\n",
    "# JSON 문자열을 dictionary로 변환하고, 리스트를 다시 numpy 배열로 복원\n",
    "def list_to_numpy(d):\n",
    "    return {k: np.array(v, dtype=np.float32) for k, v in d.items()}\n",
    "\n",
    "df_loaded['WaveForm'] = df_loaded['WaveForm'].apply(json.loads)\n",
    "df_loaded['WaveForm'] = df_loaded['WaveForm'].apply(list_to_numpy)\n",
    "\n",
    "# 확인"
   ]
  },
  {
   "cell_type": "code",
   "execution_count": 5,
   "metadata": {},
   "outputs": [],
   "source": [
    "# df = preprocessing.p()"
   ]
  },
  {
   "cell_type": "code",
   "execution_count": 6,
   "metadata": {},
   "outputs": [],
   "source": [
    "df_loaded['Vent'] = df_loaded['Vent'].replace('1->0', '1')"
   ]
  },
  {
   "cell_type": "code",
   "execution_count": 7,
   "metadata": {},
   "outputs": [],
   "source": [
    "df = df_loaded"
   ]
  },
  {
   "cell_type": "code",
   "execution_count": 1,
   "metadata": {},
   "outputs": [],
   "source": [
    "from model_res import *\n",
    "from model import preprocess_data"
   ]
  },
  {
   "cell_type": "code",
   "execution_count": null,
   "metadata": {},
   "outputs": [],
   "source": [
    "def predict_from_xml(xml_file):\n",
    "    # new_data = p(xml_file)\n",
    "    new_data = xml_file\n",
    "    # 사용 예시\n",
    "    checkpoint_path = \"/vit_best\"\n",
    "    vit = model_res.load_vit_model(checkpoint_path)\n",
    "\n",
    "    # 3. 새로운 데이터에 대한 예측\n",
    "    probabilities = model_res.predict_probabilities(vit, new_data)\n",
    "\n",
    "    # 결과 출력\n",
    "    for i, prob in enumerate(probabilities):\n",
    "        print(f\"Probability of class 1 = {prob:.4f}\")\n",
    "        print(f\"Probability of class 0 = {1-prob:.4f}\")\n",
    "    return (prob,1-prob)"
   ]
  },
  {
   "cell_type": "code",
   "execution_count": null,
   "metadata": {},
   "outputs": [],
   "source": [
    "new_data = preprocess_data(df)[:2]\n",
    "predict_from_xml(new_data)"
   ]
  },
  {
   "cell_type": "code",
   "execution_count": null,
   "metadata": {},
   "outputs": [],
   "source": [
    "pip install "
   ]
  },
  {
   "cell_type": "markdown",
   "metadata": {},
   "source": [
    "### 원래 xml로..ㅠ"
   ]
  },
  {
   "cell_type": "code",
   "execution_count": 1,
   "metadata": {},
   "outputs": [],
   "source": [
    "from model_res import *\n",
    "from model import preprocess_data"
   ]
  },
  {
   "cell_type": "code",
   "execution_count": 2,
   "metadata": {},
   "outputs": [
    {
     "name": "stderr",
     "output_type": "stream",
     "text": [
      "2024-09-13 08:15:30.058527: I tensorflow/core/platform/cpu_feature_guard.cc:151] This TensorFlow binary is optimized with oneAPI Deep Neural Network Library (oneDNN) to use the following CPU instructions in performance-critical operations:  AVX2 FMA\n",
      "To enable them in other operations, rebuild TensorFlow with the appropriate compiler flags.\n",
      "2024-09-13 08:16:29.748637: I tensorflow/core/common_runtime/gpu/gpu_device.cc:1525] Created device /job:localhost/replica:0/task:0/device:GPU:0 with 42800 MB memory:  -> device: 0, name: NVIDIA RTX A6000, pci bus id: 0000:45:00.0, compute capability: 8.6\n",
      "2024-09-13 08:16:29.749580: I tensorflow/core/common_runtime/gpu/gpu_device.cc:1525] Created device /job:localhost/replica:0/task:0/device:GPU:1 with 44718 MB memory:  -> device: 1, name: NVIDIA RTX A6000, pci bus id: 0000:48:00.0, compute capability: 8.6\n",
      "2024-09-13 08:16:29.750143: I tensorflow/core/common_runtime/gpu/gpu_device.cc:1525] Created device /job:localhost/replica:0/task:0/device:GPU:2 with 42372 MB memory:  -> device: 2, name: NVIDIA RTX A6000, pci bus id: 0000:4b:00.0, compute capability: 8.6\n",
      "2024-09-13 08:16:29.750682: I tensorflow/core/common_runtime/gpu/gpu_device.cc:1525] Created device /job:localhost/replica:0/task:0/device:GPU:3 with 41735 MB memory:  -> device: 3, name: NVIDIA RTX A6000, pci bus id: 0000:4c:00.0, compute capability: 8.6\n",
      "2024-09-13 08:16:29.751543: I tensorflow/core/common_runtime/gpu/gpu_device.cc:1525] Created device /job:localhost/replica:0/task:0/device:GPU:4 with 42376 MB memory:  -> device: 4, name: NVIDIA RTX A6000, pci bus id: 0000:c5:00.0, compute capability: 8.6\n",
      "2024-09-13 08:16:29.752163: I tensorflow/core/common_runtime/gpu/gpu_device.cc:1525] Created device /job:localhost/replica:0/task:0/device:GPU:5 with 42390 MB memory:  -> device: 5, name: NVIDIA RTX A6000, pci bus id: 0000:c8:00.0, compute capability: 8.6\n",
      "2024-09-13 08:16:39.209958: I tensorflow/stream_executor/cuda/cuda_dnn.cc:368] Loaded cuDNN version 8302\n"
     ]
    },
    {
     "name": "stdout",
     "output_type": "stream",
     "text": [
      "Probability of class 1 = 0.2018\n",
      "Probability of class 0 = 0.7982\n"
     ]
    },
    {
     "name": "stderr",
     "output_type": "stream",
     "text": [
      "2024-09-13 08:16:44.083168: I tensorflow/stream_executor/cuda/cuda_blas.cc:1786] TensorFloat-32 will be used for the matrix multiplication. This will only be logged once.\n"
     ]
    },
    {
     "data": {
      "text/plain": [
       "(array([0.20183718], dtype=float32), array([0.7981628], dtype=float32))"
      ]
     },
     "execution_count": 2,
     "metadata": {},
     "output_type": "execute_result"
    }
   ],
   "source": [
    "predict_from_xml('03812187_20040831_1506.xml')"
   ]
  },
  {
   "cell_type": "code",
   "execution_count": 33,
   "metadata": {},
   "outputs": [],
   "source": [
    "from shiny import App, ui, reactive\n",
    "from model_res import predict_from_xml\n",
    "app_ui = ui.page_fluid(\n",
    "    ui.h2(\"Predict Model Output from XML\"),  # 애플리케이션 제목\n",
    "    ui.row(\n",
    "        ui.column(\n",
    "            6,\n",
    "            ui.panel_well(\n",
    "                ui.h3(\"Step 1: Upload Your XML File\"),\n",
    "                ui.input_file(\"xml_file\", \"Choose an XML file\", accept=[\".xml\"])\n",
    "            )\n",
    "        ),\n",
    "        ui.column(\n",
    "            6,\n",
    "            ui.panel_well(\n",
    "                ui.h3(\"Step 2: View Prediction Result\"),\n",
    "                ui.output_text_verbatim(\"output_prediction\")\n",
    "            )\n",
    "        )\n",
    "    ),\n",
    "    ui.hr(),  # 구분선 추가\n",
    "    ui.h5(\"This app uses a machine learning model to predict the output based on XML input.\")\n",
    ")\n",
    "\n",
    "# 서버 로직 정의\n",
    "def server(input, output, session):\n",
    "    # 파일 업로드 감지\n",
    "    @reactive.Effect\n",
    "    @reactive.event(input.xml_file)\n",
    "    def _():\n",
    "        xml_info = input.xml_file()\n",
    "        if xml_info is not None:\n",
    "            # 파일 경로 받아오기\n",
    "            xml_path = xml_info[0][\"datapath\"]\n",
    "\n",
    "            # 모델로 예측 수행\n",
    "            prediction = predict_from_xml(xml_path)\n",
    "\n",
    "            # 예측 결과 출력\n",
    "            output.output_prediction.set(f\"Probability of 0: {prediction[0]}, Probability of 1: {prediction[1]}\")\n",
    "\n",
    "# Shiny 애플리케이션 생성\n",
    "app = App(app_ui, server)\n"
   ]
  },
  {
   "cell_type": "code",
   "execution_count": 34,
   "metadata": {},
   "outputs": [
    {
     "ename": "SyntaxError",
     "evalue": "invalid syntax (4011993584.py, line 1)",
     "output_type": "error",
     "traceback": [
      "\u001b[0;36m  Input \u001b[0;32mIn [34]\u001b[0;36m\u001b[0m\n\u001b[0;31m    shiny run --port 8000 app:app\u001b[0m\n\u001b[0m          ^\u001b[0m\n\u001b[0;31mSyntaxError\u001b[0m\u001b[0;31m:\u001b[0m invalid syntax\n"
     ]
    }
   ],
   "source": []
  },
  {
   "cell_type": "code",
   "execution_count": null,
   "metadata": {},
   "outputs": [],
   "source": []
  }
 ],
 "metadata": {
  "kernelspec": {
   "display_name": "Python 3",
   "language": "python",
   "name": "python3"
  },
  "language_info": {
   "codemirror_mode": {
    "name": "ipython",
    "version": 3
   },
   "file_extension": ".py",
   "mimetype": "text/x-python",
   "name": "python",
   "nbconvert_exporter": "python",
   "pygments_lexer": "ipython3",
   "version": "3.8.10"
  }
 },
 "nbformat": 4,
 "nbformat_minor": 2
}
